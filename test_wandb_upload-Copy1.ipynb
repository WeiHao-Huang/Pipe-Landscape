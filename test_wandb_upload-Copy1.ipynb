{
 "cells": [
  {
   "cell_type": "code",
   "execution_count": 1,
   "id": "b9c62550-9afa-43b9-abe9-7fff6aec34c9",
   "metadata": {},
   "outputs": [],
   "source": [
    "import os\n",
    "import getpass"
   ]
  },
  {
   "cell_type": "code",
   "execution_count": 2,
   "id": "8a926a16-8641-49b3-b39c-2a4c793c3d55",
   "metadata": {},
   "outputs": [],
   "source": [
    "# api_key = getpass.getpass('请输入你的 W&B API 密钥：')\n",
    "# os.environ['WANDB_API_KEY'] = api_key\n",
    "\n",
    "api_key = '4cafc67094d6da4653fed850e61139389dba94a0'\n",
    "os.environ['WANDB_API_KEY'] = api_key"
   ]
  },
  {
   "cell_type": "code",
   "execution_count": null,
   "id": "bfaf7013-40ea-4c8d-9989-d3d36e90edac",
   "metadata": {},
   "outputs": [],
   "source": [
    "\n",
    "\n",
    "# Step 3: 登录到 W&B 账户\n",
    "import wandb\n",
    "\n",
    "wandb.login(key=api_key)\n",
    "\n",
    "# Step 4: 定位并上传特定的运行目录\n",
    "import subprocess\n",
    "\n",
    "run_dir = '/home/chenyupeng/wandb/run-20241110_004844-bn3rahey'\n",
    "\n",
    "if not os.path.isdir(run_dir):\n",
    "    raise FileNotFoundError(f\"指定的运行目录不存在：{run_dir}\")\n",
    "\n",
    "os.environ['WANDB_MODE'] = 'online'\n",
    "\n",
    "try:\n",
    "    sync_command = ['wandb', 'sync', run_dir]\n",
    "    subprocess.run(sync_command, check=True)\n",
    "    print(f\"成功同步运行目录：{run_dir}\")\n",
    "except subprocess.CalledProcessError as e:\n",
    "    print(f\"同步失败：{e}\")\n",
    "\n",
    "# Step 5: 验证上传结果\n",
    "user = wandb.Api().user()\n",
    "print(f\"已登录到 W&B 账户：{user.name} ({user.email})\")"
   ]
  }
 ],
 "metadata": {
  "kernelspec": {
   "display_name": "Python 3 (ipykernel)",
   "language": "python",
   "name": "python3"
  },
  "language_info": {
   "codemirror_mode": {
    "name": "ipython",
    "version": 3
   },
   "file_extension": ".py",
   "mimetype": "text/x-python",
   "name": "python",
   "nbconvert_exporter": "python",
   "pygments_lexer": "ipython3",
   "version": "3.9.18"
  }
 },
 "nbformat": 4,
 "nbformat_minor": 5
}
