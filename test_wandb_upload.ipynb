{
 "cells": [
  {
   "cell_type": "code",
   "execution_count": 3,
   "id": "b9c62550-9afa-43b9-abe9-7fff6aec34c9",
   "metadata": {},
   "outputs": [],
   "source": [
    "import os\n",
    "import getpass"
   ]
  },
  {
   "cell_type": "code",
   "execution_count": 4,
   "id": "8a926a16-8641-49b3-b39c-2a4c793c3d55",
   "metadata": {},
   "outputs": [],
   "source": [
    "# api_key = getpass.getpass('请输入你的 W&B API 密钥：')\n",
    "# os.environ['WANDB_API_KEY'] = api_key\n",
    "\n",
    "api_key = '4cafc67094d6da4653fed850e61139389dba94a0'\n",
    "os.environ['WANDB_API_KEY'] = api_key"
   ]
  },
  {
   "cell_type": "code",
   "execution_count": 5,
   "id": "83183abc-8115-45d5-9111-89cc77940684",
   "metadata": {},
   "outputs": [
    {
     "name": "stderr",
     "output_type": "stream",
     "text": [
      "\u001b[34m\u001b[1mwandb\u001b[0m: Currently logged in as: \u001b[33mempath777\u001b[0m (\u001b[33mempath777-chinese-university-of-hong-kong-shenzhen\u001b[0m). Use \u001b[1m`wandb login --relogin`\u001b[0m to force relogin\n",
      "\u001b[34m\u001b[1mwandb\u001b[0m: \u001b[33mWARNING\u001b[0m If you're specifying your api key in code, ensure this code is not shared publicly.\n",
      "\u001b[34m\u001b[1mwandb\u001b[0m: \u001b[33mWARNING\u001b[0m Consider setting the WANDB_API_KEY environment variable, or running `wandb login` from the command line.\n",
      "\u001b[34m\u001b[1mwandb\u001b[0m: Appending key for api.wandb.ai to your netrc file: /home/chenyupeng/.netrc\n"
     ]
    },
    {
     "data": {
      "text/plain": [
       "True"
      ]
     },
     "execution_count": 5,
     "metadata": {},
     "output_type": "execute_result"
    }
   ],
   "source": [
    "# Step 3: 登录到 W&B 账户\n",
    "import wandb\n",
    "\n",
    "wandb.login(key=api_key)"
   ]
  },
  {
   "cell_type": "code",
   "execution_count": 6,
   "id": "bfaf7013-40ea-4c8d-9989-d3d36e90edac",
   "metadata": {},
   "outputs": [
    {
     "name": "stdout",
     "output_type": "stream",
     "text": [
      "Find logs at: /tmp/debug-cli.chenyupeng.log\n",
      "Syncing: https://wandb.ai/empath777-chinese-university-of-hong-kong-shenzhen/my-project/runs/bn3rahey ... done.\n",
      "成功同步运行目录：/home/chenyupeng/wandb/run-20241110_004844-bn3rahey\n"
     ]
    }
   ],
   "source": [
    "# Step 4: 定位并上传特定的运行目录\n",
    "import subprocess\n",
    "\n",
    "run_dir = '/home/chenyupeng/wandb/run-20241110_004844-bn3rahey'\n",
    "\n",
    "if not os.path.isdir(run_dir):\n",
    "    raise FileNotFoundError(f\"指定的运行目录不存在：{run_dir}\")\n",
    "\n",
    "os.environ['WANDB_MODE'] = 'online'\n",
    "\n",
    "try:\n",
    "    sync_command = ['wandb', 'sync', run_dir]\n",
    "    subprocess.run(sync_command, check=True)\n",
    "    print(f\"成功同步运行目录：{run_dir}\")\n",
    "except subprocess.CalledProcessError as e:\n",
    "    print(f\"同步失败：{e}\")\n"
   ]
  },
  {
   "cell_type": "code",
   "execution_count": 7,
   "id": "4252072a-9a5c-4e0c-a84c-4098bd96a2db",
   "metadata": {},
   "outputs": [
    {
     "ename": "TypeError",
     "evalue": "user() missing 1 required positional argument: 'username_or_email'",
     "output_type": "error",
     "traceback": [
      "\u001b[0;31m---------------------------------------------------------------------------\u001b[0m",
      "\u001b[0;31mTypeError\u001b[0m                                 Traceback (most recent call last)",
      "Cell \u001b[0;32mIn[7], line 2\u001b[0m\n\u001b[1;32m      1\u001b[0m \u001b[38;5;66;03m# Step 5: 验证上传结果\u001b[39;00m\n\u001b[0;32m----> 2\u001b[0m user \u001b[38;5;241m=\u001b[39m \u001b[43mwandb\u001b[49m\u001b[38;5;241;43m.\u001b[39;49m\u001b[43mApi\u001b[49m\u001b[43m(\u001b[49m\u001b[43m)\u001b[49m\u001b[38;5;241;43m.\u001b[39;49m\u001b[43muser\u001b[49m\u001b[43m(\u001b[49m\u001b[43m)\u001b[49m\n\u001b[1;32m      3\u001b[0m \u001b[38;5;28mprint\u001b[39m(\u001b[38;5;124mf\u001b[39m\u001b[38;5;124m\"\u001b[39m\u001b[38;5;124m已登录到 W&B 账户：\u001b[39m\u001b[38;5;132;01m{\u001b[39;00muser\u001b[38;5;241m.\u001b[39mname\u001b[38;5;132;01m}\u001b[39;00m\u001b[38;5;124m (\u001b[39m\u001b[38;5;132;01m{\u001b[39;00muser\u001b[38;5;241m.\u001b[39memail\u001b[38;5;132;01m}\u001b[39;00m\u001b[38;5;124m)\u001b[39m\u001b[38;5;124m\"\u001b[39m)\n",
      "\u001b[0;31mTypeError\u001b[0m: user() missing 1 required positional argument: 'username_or_email'"
     ]
    }
   ],
   "source": [
    "\n",
    "# Step 5: 验证上传结果\n",
    "user = wandb.Api().user()\n",
    "print(f\"已登录到 W&B 账户：{user.name} ({user.email})\")"
   ]
  }
 ],
 "metadata": {
  "kernelspec": {
   "display_name": "Python 3 (ipykernel)",
   "language": "python",
   "name": "python3"
  },
  "language_info": {
   "codemirror_mode": {
    "name": "ipython",
    "version": 3
   },
   "file_extension": ".py",
   "mimetype": "text/x-python",
   "name": "python",
   "nbconvert_exporter": "python",
   "pygments_lexer": "ipython3",
   "version": "3.9.18"
  }
 },
 "nbformat": 4,
 "nbformat_minor": 5
}
