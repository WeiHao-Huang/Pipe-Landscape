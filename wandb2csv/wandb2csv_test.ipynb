{
 "cells": [
  {
   "cell_type": "code",
   "execution_count": 1,
   "id": "a4ea7dc2-e81a-4d45-88b1-4aaab1d4712c",
   "metadata": {},
   "outputs": [],
   "source": [
    "import re\n",
    "import pandas as pd\n",
    "\n",
    "# 定义正则表达式模式\n",
    "train_pattern = re.compile(\n",
    "    r\"Train: Iter=(\\d+) \\(([\\d\\.]+) epochs\\) train_loss=([\\d\\.]+) iter_dt=([\\d\\.e\\-]+)s lr=([\\d\\.e\\-]+)\"\n",
    ")\n",
    "eval_pattern = re.compile(\n",
    "    r\">Eval: Iter=(\\d+) \\(([\\d\\.]+) epochs\\) val_loss=([\\d\\.]+) val_pp=([\\d\\.]+) val_acc=([\\d\\.]+)\"\n",
    ")\n",
    "\n",
    "# 初始化空列表存储数据\n",
    "train_data = []\n",
    "eval_data = []\n"
   ]
  },
  {
   "cell_type": "code",
   "execution_count": 4,
   "id": "bc2bd2c7-313f-43b5-98d5-bfdd9b6f85ef",
   "metadata": {},
   "outputs": [],
   "source": [
    "# 读取 output.log 文件\n",
    "with open('/home/chenyupeng/yupeng/jaggi-lr/wandb2csv/output.log', 'r') as f:\n",
    "    for line in f:\n",
    "        # 匹配训练数据行\n",
    "        train_match = train_pattern.match(line)\n",
    "        if train_match:\n",
    "            iter_num = int(train_match.group(1))\n",
    "            epochs = float(train_match.group(2))\n",
    "            train_loss = float(train_match.group(3))\n",
    "            iter_dt = float(train_match.group(4))\n",
    "            lr = float(train_match.group(5))\n",
    "            train_data.append({\n",
    "                'iter': iter_num,\n",
    "                'epochs': epochs,\n",
    "                'train_loss': train_loss,\n",
    "                'iter_dt': iter_dt,\n",
    "                'lr': lr\n",
    "            })\n",
    "            continue\n",
    "\n",
    "        # 匹配验证数据行\n",
    "        eval_match = eval_pattern.match(line)\n",
    "        if eval_match:\n",
    "            iter_num = int(eval_match.group(1))\n",
    "            epochs = float(eval_match.group(2))\n",
    "            val_loss = float(eval_match.group(3))\n",
    "            val_pp = float(eval_match.group(4))\n",
    "            val_acc = float(eval_match.group(5))\n",
    "            eval_data.append({\n",
    "                'iter': iter_num,\n",
    "                'epochs': epochs,\n",
    "                'val_loss': val_loss,\n",
    "                'val_pp': val_pp,\n",
    "                'val_acc': val_acc\n",
    "            })"
   ]
  },
  {
   "cell_type": "code",
   "execution_count": 5,
   "id": "359663ca-9813-4029-8c4d-fcc8ba365504",
   "metadata": {},
   "outputs": [
    {
     "name": "stdout",
     "output_type": "stream",
     "text": [
      "数据已成功提取并保存为 training_results.csv\n"
     ]
    },
    {
     "name": "stderr",
     "output_type": "stream",
     "text": [
      "/tmp/ipykernel_3138993/1445174856.py:12: FutureWarning: DataFrame.fillna with 'method' is deprecated and will raise in a future version. Use obj.ffill() or obj.bfill() instead.\n",
      "  merged_df.fillna(method='ffill', inplace=True)\n"
     ]
    }
   ],
   "source": [
    "\n",
    "\n",
    "# 将数据转换为 DataFrame\n",
    "train_df = pd.DataFrame(train_data)\n",
    "eval_df = pd.DataFrame(eval_data)\n",
    "\n",
    "# 合并训练和验证数据\n",
    "merged_df = pd.merge(train_df, eval_df, on=['iter', 'epochs'], how='outer')\n",
    "\n",
    "# 按迭代次数排序\n",
    "merged_df.sort_values(by='iter', inplace=True)\n",
    "\n",
    "# 将缺失值填充为前一个有效值（如果需要）\n",
    "merged_df.fillna(method='ffill', inplace=True)\n",
    "\n",
    "# 保存为 CSV 文件\n",
    "merged_df.to_csv('/home/chenyupeng/yupeng/jaggi-lr/wandb2csv/training_results.csv', index=False)\n",
    "print(\"数据已成功提取并保存为 training_results.csv\")\n"
   ]
  },
  {
   "cell_type": "code",
   "execution_count": null,
   "id": "cc087234-45e5-407e-beba-826e6e9fb589",
   "metadata": {},
   "outputs": [],
   "source": []
  },
  {
   "cell_type": "code",
   "execution_count": null,
   "id": "ebd7c16f-7967-4208-b727-1b7db167b203",
   "metadata": {},
   "outputs": [],
   "source": []
  }
 ],
 "metadata": {
  "kernelspec": {
   "display_name": "Python 3 (ipykernel)",
   "language": "python",
   "name": "python3"
  },
  "language_info": {
   "codemirror_mode": {
    "name": "ipython",
    "version": 3
   },
   "file_extension": ".py",
   "mimetype": "text/x-python",
   "name": "python",
   "nbconvert_exporter": "python",
   "pygments_lexer": "ipython3",
   "version": "3.9.18"
  }
 },
 "nbformat": 4,
 "nbformat_minor": 5
}
