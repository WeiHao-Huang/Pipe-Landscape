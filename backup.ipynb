{
 "cells": [
  {
   "cell_type": "markdown",
   "metadata": {},
   "source": []
  },
  {
   "cell_type": "markdown",
   "metadata": {
    "vscode": {
     "languageId": "plaintext"
    }
   },
   "source": [
    "## Effect of cooldown (mainly about wsd)"
   ]
  },
  {
   "cell_type": "markdown",
   "metadata": {},
   "source": [
    "### warmup 0 w/0 cosine"
   ]
  },
  {
   "cell_type": "code",
   "execution_count": null,
   "metadata": {
    "vscode": {
     "languageId": "plaintext"
    }
   },
   "outputs": [],
   "source": [
    "# 导入必要的库\n",
    "import pandas as pd\n",
    "import matplotlib.pyplot as plt\n",
    "\n",
    "# 文件路径列表 (请替换为你的文件路径)\n",
    "raw_csv_files = ['slimpajama_llama_nlayers8_nhead6_lr0.002_sched_wsd_warmup0_decay_linear_0.0_iter15000_bs50x4_ws1_seed0_data_seed1337_test.csv', \\\n",
    "             'slimpajama_llama_nlayers8_nhead6_lr0.002_sched_wsd_warmup0_decay_linear_0.1_iter15000_bs50x4_ws1_seed0_data_seed1337_test.csv', \\\n",
    "             'slimpajama_llama_nlayers8_nhead6_lr0.002_sched_wsd_warmup0_decay_linear_0.4_iter15000_bs50x4_ws1_seed0_data_seed1337_test.csv']  # 这里列出所有文件路径\n",
    "\n",
    "prefix = \"/home/chenyupeng/yupeng/jaggi-lr/wandb2csv/logs_wsd/\"\n",
    "\n",
    "csv_files = [prefix + file_name for file_name in raw_csv_files]\n",
    "\n",
    "# 创建图形\n",
    "plt.figure(figsize=(12, 6))\n",
    "\n",
    "# 迭代读取多个 CSV 文件并绘图\n",
    "for i, csv_file in enumerate(csv_files):\n",
    "    # 读取数据\n",
    "    df = pd.read_csv(csv_file)\n",
    "    \n",
    "    # 显示前几行数据\n",
    "    print(f\"读取文件 {csv_file} 的原始数据:\")\n",
    "    print(df.head())\n",
    "\n",
    "    # 数据预处理\n",
    "    df['Iter'] = pd.to_numeric(df['Iter'], errors='coerce')\n",
    "    df['val_loss'] = pd.to_numeric(df['val_loss'], errors='coerce')\n",
    "    df = df.dropna(subset=['Iter', 'val_loss'])\n",
    "\n",
    "    # 过滤数据\n",
    "    start_iter = 2000\n",
    "    end_iter = 14800   # 结束迭代步数\n",
    "    df_filtered = df[(df['Iter'] >= start_iter) & (df['Iter'] <= end_iter)]\n",
    "\n",
    "    # 检查过滤后的数据是否为空\n",
    "    if df_filtered.empty:\n",
    "        print(f\"没有找到 Iter 在 {start_iter} 和 {end_iter} 之间的数据。\")\n",
    "    else:\n",
    "        print(f\"找到 {len(df_filtered)} 条 Iter 在 {start_iter} 和 {end_iter} 之间的数据。\")\n",
    "\n",
    "        # 绘制每个文件的 val_loss\n",
    "        labels = ['0% cooldown steps', '10% cooldown steps', '40% cooldown steps']\n",
    "        plt.plot(df_filtered['Iter'], df_filtered['val_loss'], marker='o', linestyle='-', label=labels[i])\n",
    "    \n",
    "        # 绘制每个文件的 val_loss\n",
    "        # plt.plot(df_filtered['Iter'], df_filtered['val_loss'], marker='o', linestyle='-', label=f'Validation Loss from {csv_file}')\n",
    "    \n",
    "# 图形设置\n",
    "plt.xlabel('Iteration', fontsize=14)\n",
    "plt.ylabel('Validation Loss', fontsize=14)\n",
    "plt.title(f'Validation Loss from Iteration {start_iter} Onwards', fontsize=16)\n",
    "plt.legend()\n",
    "plt.grid(True)\n",
    "plt.tight_layout()\n",
    "\n",
    "# 保存图表为 PDF\n",
    "plt.savefig('/home/chenyupeng/yupeng/jaggi-lr/wandb2csv/plots/wsd_warmup0.pdf')\n",
    "\n",
    "plt.show()\n"
   ]
  },
  {
   "cell_type": "markdown",
   "metadata": {},
   "source": [
    "### warmup 1500 w/0 cosine"
   ]
  },
  {
   "cell_type": "code",
   "execution_count": null,
   "metadata": {
    "vscode": {
     "languageId": "plaintext"
    }
   },
   "outputs": [],
   "source": [
    "# 导入必要的库\n",
    "import pandas as pd\n",
    "import matplotlib.pyplot as plt\n",
    "\n",
    "# 文件路径列表 (请替换为你的文件路径)\n",
    "raw_csv_files = ['slimpajama_llama_nlayers8_nhead6_lr0.002_sched_wsd_warmup1500_decay_linear_0.0_iter15000_bs50x4_ws1_seed0_data_seed1337_test.csv', \\\n",
    "             'slimpajama_llama_nlayers8_nhead6_lr0.002_sched_wsd_warmup1500_decay_linear_0.1_iter15000_bs50x4_ws1_seed0_data_seed1337_test.csv', \\\n",
    "             'slimpajama_llama_nlayers8_nhead6_lr0.002_sched_wsd_warmup1500_decay_linear_0.4_iter15000_bs50x4_ws1_seed0_data_seed1337_test.csv']  # 这里列出所有文件路径\n",
    "\n",
    "prefix = \"/home/chenyupeng/yupeng/jaggi-lr/wandb2csv/logs_wsd/\"\n",
    "\n",
    "csv_files = [prefix + file_name for file_name in raw_csv_files]\n",
    "\n",
    "# 创建图形\n",
    "plt.figure(figsize=(12, 6))\n",
    "\n",
    "# 迭代读取多个 CSV 文件并绘图\n",
    "for i, csv_file in enumerate(csv_files):\n",
    "    # 读取数据\n",
    "    df = pd.read_csv(csv_file)\n",
    "    \n",
    "    # 显示前几行数据\n",
    "    print(f\"读取文件 {csv_file} 的原始数据:\")\n",
    "    print(df.head())\n",
    "\n",
    "    # 数据预处理\n",
    "    df['Iter'] = pd.to_numeric(df['Iter'], errors='coerce')\n",
    "    df['val_loss'] = pd.to_numeric(df['val_loss'], errors='coerce')\n",
    "    df = df.dropna(subset=['Iter', 'val_loss'])\n",
    "\n",
    "    # 过滤数据\n",
    "    start_iter = 2000\n",
    "    end_iter = 14800   # 结束迭代步数\n",
    "    df_filtered = df[(df['Iter'] >= start_iter) & (df['Iter'] <= end_iter)]\n",
    "\n",
    "    # 检查过滤后的数据是否为空\n",
    "    if df_filtered.empty:\n",
    "        print(f\"没有找到 Iter 在 {start_iter} 和 {end_iter} 之间的数据。\")\n",
    "    else:\n",
    "        print(f\"找到 {len(df_filtered)} 条 Iter 在 {start_iter} 和 {end_iter} 之间的数据。\")\n",
    "\n",
    "        # 绘制每个文件的 val_loss\n",
    "        labels = ['0% cooldown steps', '10% cooldown steps', '40% cooldown steps']\n",
    "        plt.plot(df_filtered['Iter'], df_filtered['val_loss'], marker='o', linestyle='-', label=labels[i])\n",
    "    \n",
    "        # 绘制每个文件的 val_loss\n",
    "        # plt.plot(df_filtered['Iter'], df_filtered['val_loss'], marker='o', linestyle='-', label=f'Validation Loss from {csv_file}')\n",
    "    \n",
    "# 图形设置\n",
    "plt.xlabel('Iteration', fontsize=14)\n",
    "plt.ylabel('Validation Loss', fontsize=14)\n",
    "plt.title(f'Validation Loss from Iteration {start_iter} Onwards', fontsize=16)\n",
    "plt.legend()\n",
    "plt.grid(True)\n",
    "plt.tight_layout()\n",
    "\n",
    "# 保存图表为 PDF\n",
    "plt.savefig('/home/chenyupeng/yupeng/jaggi-lr/wandb2csv/plots/wsd_warmup1500.pdf')\n",
    "\n",
    "plt.show()\n"
   ]
  },
  {
   "cell_type": "markdown",
   "metadata": {
    "vscode": {
     "languageId": "plaintext"
    }
   },
   "source": [
    "## warmup300 w/0 cosine"
   ]
  },
  {
   "cell_type": "code",
   "execution_count": null,
   "metadata": {
    "vscode": {
     "languageId": "plaintext"
    }
   },
   "outputs": [],
   "source": [
    "### warmup0 w/ cosine"
   ]
  },
  {
   "cell_type": "code",
   "execution_count": null,
   "metadata": {
    "vscode": {
     "languageId": "plaintext"
    }
   },
   "outputs": [],
   "source": [
    "# 导入必要的库\n",
    "import pandas as pd\n",
    "import matplotlib.pyplot as plt\n",
    "\n",
    "# 文件路径列表 (请替换为你的文件路径)\n",
    "raw_csv_files = ['slimpajama_llama_nlayers8_nhead6_lr0.002_sched_wsd_warmup0_decay_linear_0.0_iter15000_bs50x4_ws1_seed0_data_seed1337_test.csv', \\\n",
    "             'slimpajama_llama_nlayers8_nhead6_lr0.002_sched_wsd_warmup0_decay_linear_0.1_iter15000_bs50x4_ws1_seed0_data_seed1337_test.csv', \\\n",
    "             'slimpajama_llama_nlayers8_nhead6_lr0.002_sched_wsd_warmup0_decay_linear_0.4_iter15000_bs50x4_ws1_seed0_data_seed1337_test.csv', \\\n",
    "             'slimpajama_llama_nlayers8_nhead6_lr0.002_sched_cos_warmup0_decay_linear_0.1_iter15000_bs50x4_ws1_seed0_data_seed1337_test.csv']  # 这里列出所有文件路径\n",
    "\n",
    "prefix = \"/home/chenyupeng/yupeng/jaggi-lr/wandb2csv/logs_wsd/\"\n",
    "\n",
    "csv_files = [prefix + file_name for file_name in raw_csv_files]\n",
    "\n",
    "# 创建图形\n",
    "plt.figure(figsize=(12, 6))\n",
    "\n",
    "# 迭代读取多个 CSV 文件并绘图\n",
    "for i, csv_file in enumerate(csv_files):\n",
    "    # 读取数据\n",
    "    df = pd.read_csv(csv_file)\n",
    "    \n",
    "    # 显示前几行数据\n",
    "    print(f\"读取文件 {csv_file} 的原始数据:\")\n",
    "    print(df.head())\n",
    "\n",
    "    # 数据预处理\n",
    "    df['Iter'] = pd.to_numeric(df['Iter'], errors='coerce')\n",
    "    df['val_loss'] = pd.to_numeric(df['val_loss'], errors='coerce')\n",
    "    df = df.dropna(subset=['Iter', 'val_loss'])\n",
    "\n",
    "    # 过滤数据\n",
    "    start_iter = 2000\n",
    "    end_iter = 14800   # 结束迭代步数\n",
    "    df_filtered = df[(df['Iter'] >= start_iter) & (df['Iter'] <= end_iter)]\n",
    "\n",
    "    # 检查过滤后的数据是否为空\n",
    "    if df_filtered.empty:\n",
    "        print(f\"没有找到 Iter 在 {start_iter} 和 {end_iter} 之间的数据。\")\n",
    "    else:\n",
    "        print(f\"找到 {len(df_filtered)} 条 Iter 在 {start_iter} 和 {end_iter} 之间的数据。\")\n",
    "\n",
    "        # 绘制每个文件的 val_loss\n",
    "        labels = ['0% cooldown steps', '10% cooldown steps', '40% cooldown steps', 'cosine']\n",
    "        plt.plot(df_filtered['Iter'], df_filtered['val_loss'], marker='o', linestyle='-', label=labels[i])\n",
    "    \n",
    "        # 绘制每个文件的 val_loss\n",
    "        # plt.plot(df_filtered['Iter'], df_filtered['val_loss'], marker='o', linestyle='-', label=f'Validation Loss from {csv_file}')\n",
    "    \n",
    "# 图形设置\n",
    "plt.xlabel('Iteration', fontsize=14)\n",
    "plt.ylabel('Validation Loss', fontsize=14)\n",
    "plt.title(f'Validation Loss from Iteration {start_iter} Onwards', fontsize=16)\n",
    "plt.legend()\n",
    "plt.grid(True)\n",
    "plt.tight_layout()\n",
    "\n",
    "# 保存图表为 PDF\n",
    "plt.savefig('/home/chenyupeng/yupeng/jaggi-lr/wandb2csv/plots/wsd_warmup0_w_cos.pdf')\n",
    "\n",
    "plt.show()\n"
   ]
  },
  {
   "cell_type": "code",
   "execution_count": null,
   "metadata": {
    "vscode": {
     "languageId": "plaintext"
    }
   },
   "outputs": [],
   "source": [
    "### warmup1500 w/ cosine"
   ]
  },
  {
   "cell_type": "code",
   "execution_count": null,
   "metadata": {
    "vscode": {
     "languageId": "plaintext"
    }
   },
   "outputs": [],
   "source": [
    "# 导入必要的库\n",
    "import pandas as pd\n",
    "import matplotlib.pyplot as plt\n",
    "\n",
    "# 文件路径列表 (请替换为你的文件路径)\n",
    "raw_csv_files = ['slimpajama_llama_nlayers8_nhead6_lr0.002_sched_wsd_warmup1500_decay_linear_0.0_iter15000_bs50x4_ws1_seed0_data_seed1337_test.csv', \\\n",
    "             'slimpajama_llama_nlayers8_nhead6_lr0.002_sched_wsd_warmup1500_decay_linear_0.1_iter15000_bs50x4_ws1_seed0_data_seed1337_test.csv', \\\n",
    "             'slimpajama_llama_nlayers8_nhead6_lr0.002_sched_wsd_warmup1500_decay_linear_0.4_iter15000_bs50x4_ws1_seed0_data_seed1337_test.csv', \\\n",
    "             'slimpajama_llama_nlayers8_nhead6_lr0.002_sched_cos_warmup1500_decay_linear_0.1_iter15000_bs50x4_ws1_seed0_data_seed1337_test.csv']  # 这里列出所有文件路径\n",
    "\n",
    "prefix = \"/home/chenyupeng/yupeng/jaggi-lr/wandb2csv/logs_wsd/\"\n",
    "\n",
    "csv_files = [prefix + file_name for file_name in raw_csv_files]\n",
    "\n",
    "# 创建图形\n",
    "plt.figure(figsize=(12, 6))\n",
    "\n",
    "# 迭代读取多个 CSV 文件并绘图\n",
    "for i, csv_file in enumerate(csv_files):\n",
    "    # 读取数据\n",
    "    df = pd.read_csv(csv_file)\n",
    "    \n",
    "    # 显示前几行数据\n",
    "    print(f\"读取文件 {csv_file} 的原始数据:\")\n",
    "    print(df.head())\n",
    "\n",
    "    # 数据预处理\n",
    "    df['Iter'] = pd.to_numeric(df['Iter'], errors='coerce')\n",
    "    df['val_loss'] = pd.to_numeric(df['val_loss'], errors='coerce')\n",
    "    df = df.dropna(subset=['Iter', 'val_loss'])\n",
    "\n",
    "    # 过滤数据\n",
    "    start_iter = 2000\n",
    "    end_iter = 14800   # 结束迭代步数\n",
    "    df_filtered = df[(df['Iter'] >= start_iter) & (df['Iter'] <= end_iter)]\n",
    "\n",
    "    # 检查过滤后的数据是否为空\n",
    "    if df_filtered.empty:\n",
    "        print(f\"没有找到 Iter 在 {start_iter} 和 {end_iter} 之间的数据。\")\n",
    "    else:\n",
    "        print(f\"找到 {len(df_filtered)} 条 Iter 在 {start_iter} 和 {end_iter} 之间的数据。\")\n",
    "\n",
    "        # 绘制每个文件的 val_loss\n",
    "        labels = ['0% cooldown steps', '10% cooldown steps', '40% cooldown steps', 'cosine']\n",
    "        plt.plot(df_filtered['Iter'], df_filtered['val_loss'], marker='o', linestyle='-', label=labels[i])\n",
    "    \n",
    "        # 绘制每个文件的 val_loss\n",
    "        # plt.plot(df_filtered['Iter'], df_filtered['val_loss'], marker='o', linestyle='-', label=f'Validation Loss from {csv_file}')\n",
    "    \n",
    "# 图形设置\n",
    "plt.xlabel('Iteration', fontsize=14)\n",
    "plt.ylabel('Validation Loss', fontsize=14)\n",
    "plt.title(f'Validation Loss from Iteration {start_iter} Onwards', fontsize=16)\n",
    "plt.legend()\n",
    "plt.grid(True)\n",
    "plt.tight_layout()\n",
    "\n",
    "# 保存图表为 PDF\n",
    "plt.savefig('/home/chenyupeng/yupeng/jaggi-lr/wandb2csv/plots/wsd_warmup1500_w_cos.pdf')\n",
    "\n",
    "plt.show()\n"
   ]
  },
  {
   "cell_type": "code",
   "execution_count": null,
   "metadata": {
    "vscode": {
     "languageId": "plaintext"
    }
   },
   "outputs": [],
   "source": [
    "## Effect of warmup (mainly about wsd)"
   ]
  },
  {
   "cell_type": "code",
   "execution_count": null,
   "metadata": {
    "vscode": {
     "languageId": "plaintext"
    }
   },
   "outputs": [],
   "source": [
    "### wsd cooldown 0.1 "
   ]
  },
  {
   "cell_type": "code",
   "execution_count": null,
   "metadata": {
    "vscode": {
     "languageId": "plaintext"
    }
   },
   "outputs": [],
   "source": [
    "# 导入必要的库\n",
    "import pandas as pd\n",
    "import matplotlib.pyplot as plt\n",
    "\n",
    "# 文件路径列表 (请替换为你的文件路径)\n",
    "raw_csv_files = ['slimpajama_llama_nlayers8_nhead6_lr0.002_sched_wsd_warmup0_decay_linear_0.1_iter15000_bs50x4_ws1_seed0_data_seed1337_test.csv', \\\n",
    "             'slimpajama_llama_nlayers8_nhead6_lr0.002_sched_wsd_warmup300_decay_linear_0.1_iter15000_bs50x4_ws1_seed0_data_seed1337_test.csv', \\\n",
    "             'slimpajama_llama_nlayers8_nhead6_lr0.002_sched_wsd_warmup1500_decay_linear_0.1_iter15000_bs50x4_ws1_seed0_data_seed1337_test.csv']  # 这里列出所有文件路径\n",
    "\n",
    "prefix = \"/home/chenyupeng/yupeng/jaggi-lr/wandb2csv/logs_wsd/\"\n",
    "\n",
    "csv_files = [prefix + file_name for file_name in raw_csv_files]\n",
    "\n",
    "# 创建图形\n",
    "plt.figure(figsize=(12, 6))\n",
    "\n",
    "# 迭代读取多个 CSV 文件并绘图\n",
    "for i, csv_file in enumerate(csv_files):\n",
    "    # 读取数据\n",
    "    df = pd.read_csv(csv_file)\n",
    "    \n",
    "    # 显示前几行数据\n",
    "    print(f\"读取文件 {csv_file} 的原始数据:\")\n",
    "    print(df.head())\n",
    "\n",
    "    # 数据预处理\n",
    "    df['Iter'] = pd.to_numeric(df['Iter'], errors='coerce')\n",
    "    df['val_loss'] = pd.to_numeric(df['val_loss'], errors='coerce')\n",
    "    df = df.dropna(subset=['Iter', 'val_loss'])\n",
    "\n",
    "    # 过滤数据\n",
    "    start_iter = 0\n",
    "    end_iter = 14800   # 结束迭代步数\n",
    "    df_filtered = df[(df['Iter'] >= start_iter) & (df['Iter'] <= end_iter)]\n",
    "\n",
    "    # 检查过滤后的数据是否为空\n",
    "    if df_filtered.empty:\n",
    "        print(f\"没有找到 Iter 在 {start_iter} 和 {end_iter} 之间的数据。\")\n",
    "    else:\n",
    "        print(f\"找到 {len(df_filtered)} 条 Iter 在 {start_iter} 和 {end_iter} 之间的数据。\")\n",
    "\n",
    "        # 绘制每个文件的 val_loss\n",
    "        labels = ['0 warmup steps', '300 warmup steps', '1500 warmup steps']\n",
    "        plt.plot(df_filtered['Iter'], df_filtered['val_loss'], marker='o', linestyle='-', label=labels[i])\n",
    "    \n",
    "        # 绘制每个文件的 val_loss\n",
    "        # plt.plot(df_filtered['Iter'], df_filtered['val_loss'], marker='o', linestyle='-', label=f'Validation Loss from {csv_file}')\n",
    "    \n",
    "# 图形设置\n",
    "plt.xlabel('Iteration', fontsize=14)\n",
    "plt.ylabel('Validation Loss', fontsize=14)\n",
    "plt.title(f'Validation Loss from Iteration {start_iter} Onwards', fontsize=16)\n",
    "plt.legend()\n",
    "plt.grid(True)\n",
    "plt.tight_layout()\n",
    "\n",
    "# 保存图表为 PDF\n",
    "plt.savefig('/home/chenyupeng/yupeng/jaggi-lr/wandb2csv/plots/wsd_cooldown01.pdf')\n",
    "\n",
    "plt.show()\n"
   ]
  },
  {
   "cell_type": "code",
   "execution_count": null,
   "metadata": {
    "vscode": {
     "languageId": "plaintext"
    }
   },
   "outputs": [],
   "source": [
    "### cosine (diff warmups)"
   ]
  },
  {
   "cell_type": "code",
   "execution_count": null,
   "metadata": {
    "vscode": {
     "languageId": "plaintext"
    }
   },
   "outputs": [],
   "source": [
    "# 导入必要的库\n",
    "import pandas as pd\n",
    "import matplotlib.pyplot as plt\n",
    "\n",
    "# 文件路径列表 (请替换为你的文件路径)\n",
    "raw_csv_files = ['slimpajama_llama_nlayers8_nhead6_lr0.002_sched_cos_warmup0_decay_linear_0.1_iter15000_bs50x4_ws1_seed0_data_seed1337_test.csv', \\\n",
    "             'slimpajama_llama_nlayers8_nhead6_lr0.002_sched_cos_warmup300_decay_linear_0.1_iter15000_bs50x4_ws1_seed0_data_seed1337_test.csv', \\\n",
    "             'slimpajama_llama_nlayers8_nhead6_lr0.002_sched_cos_warmup1500_decay_linear_0.1_iter15000_bs50x4_ws1_seed0_data_seed1337_test.csv']  # 这里列出所有文件路径\n",
    "\n",
    "prefix = \"/home/chenyupeng/yupeng/jaggi-lr/wandb2csv/logs_wsd/\"\n",
    "\n",
    "csv_files = [prefix + file_name for file_name in raw_csv_files]\n",
    "\n",
    "# 创建图形\n",
    "plt.figure(figsize=(12, 6))\n",
    "\n",
    "# 迭代读取多个 CSV 文件并绘图\n",
    "for i, csv_file in enumerate(csv_files):\n",
    "    # 读取数据\n",
    "    df = pd.read_csv(csv_file)\n",
    "    \n",
    "    # 显示前几行数据\n",
    "    print(f\"读取文件 {csv_file} 的原始数据:\")\n",
    "    print(df.head())\n",
    "\n",
    "    # 数据预处理\n",
    "    df['Iter'] = pd.to_numeric(df['Iter'], errors='coerce')\n",
    "    df['val_loss'] = pd.to_numeric(df['val_loss'], errors='coerce')\n",
    "    df = df.dropna(subset=['Iter', 'val_loss'])\n",
    "\n",
    "    # 过滤数据\n",
    "    start_iter = 2000\n",
    "    end_iter = 14800   # 结束迭代步数\n",
    "    df_filtered = df[(df['Iter'] >= start_iter) & (df['Iter'] <= end_iter)]\n",
    "\n",
    "    # 检查过滤后的数据是否为空\n",
    "    if df_filtered.empty:\n",
    "        print(f\"没有找到 Iter 在 {start_iter} 和 {end_iter} 之间的数据。\")\n",
    "    else:\n",
    "        print(f\"找到 {len(df_filtered)} 条 Iter 在 {start_iter} 和 {end_iter} 之间的数据。\")\n",
    "\n",
    "        # 绘制每个文件的 val_loss\n",
    "        labels = ['0 warmup steps', '300 warmup steps', '1500 warmup steps']\n",
    "        plt.plot(df_filtered['Iter'], df_filtered['val_loss'], marker='o', linestyle='-', label=labels[i])\n",
    "    \n",
    "        # 绘制每个文件的 val_loss\n",
    "        # plt.plot(df_filtered['Iter'], df_filtered['val_loss'], marker='o', linestyle='-', label=f'Validation Loss from {csv_file}')\n",
    "    \n",
    "# 图形设置\n",
    "plt.xlabel('Iteration', fontsize=14)\n",
    "plt.ylabel('Validation Loss', fontsize=14)\n",
    "plt.title(f'Validation Loss from Iteration {start_iter} Onwards', fontsize=16)\n",
    "plt.legend()\n",
    "plt.grid(True)\n",
    "plt.tight_layout()\n",
    "\n",
    "# 保存图表为 PDF\n",
    "plt.savefig('/home/chenyupeng/yupeng/jaggi-lr/wandb2csv/plots/cosine_diffwarmup.pdf')\n",
    "\n",
    "plt.show()\n"
   ]
  }
 ],
 "metadata": {
  "language_info": {
   "name": "python"
  }
 },
 "nbformat": 4,
 "nbformat_minor": 2
}
